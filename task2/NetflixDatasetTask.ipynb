{
 "cells": [
  {
   "cell_type": "markdown",
   "id": "a4e7c79c",
   "metadata": {
    "id": "a4e7c79c"
   },
   "source": [
    "<h2>Dataset Content</h2>\n",
    "<p>This dataset consists of tv shows and movies available on Netflix as of 2019. The dataset is collected from Flixable which is a third-party Netflix search engine.\n",
    "\n",
    "In 2018, they released an interesting report which shows that the number of TV shows on Netflix has nearly tripled since 2010. The streaming service’s number of movies has decreased by more than 2,000 titles since 2010, while its number of TV shows has nearly tripled. It will be interesting to explore what all other insights can be obtained from the same dataset.\n",
    "\n",
    "<ul>Inspiration\n",
    "    <li>Understanding what content is available in different countries</li>\n",
    "    <li>Identifying similar content by matching text-based features</li>\n",
    "    <li>Network analysis of Actors / Directors and find interesting insights</li>\n",
    "    <li>Is Netflix has increasingly focusing on TV rather than movies in recent years.</li>\n",
    "</ul>"
   ]
  },
  {
   "cell_type": "code",
   "execution_count": 4,
   "id": "0f07a767",
   "metadata": {
    "id": "0f07a767"
   },
   "outputs": [],
   "source": [
    "import pandas as pd\n",
    "import numpy as np"
   ]
  },
  {
   "cell_type": "code",
   "execution_count": 38,
   "id": "a3de80b6",
   "metadata": {
    "id": "a3de80b6",
    "outputId": "10612d36-82ab-4b9a-f01a-33980a0ce857"
   },
   "outputs": [
    {
     "data": {
      "text/html": [
       "<div>\n",
       "<style scoped>\n",
       "    .dataframe tbody tr th:only-of-type {\n",
       "        vertical-align: middle;\n",
       "    }\n",
       "\n",
       "    .dataframe tbody tr th {\n",
       "        vertical-align: top;\n",
       "    }\n",
       "\n",
       "    .dataframe thead th {\n",
       "        text-align: right;\n",
       "    }\n",
       "</style>\n",
       "<table border=\"1\" class=\"dataframe\">\n",
       "  <thead>\n",
       "    <tr style=\"text-align: right;\">\n",
       "      <th></th>\n",
       "      <th>show_id</th>\n",
       "      <th>type</th>\n",
       "      <th>title</th>\n",
       "      <th>director</th>\n",
       "      <th>cast</th>\n",
       "      <th>country</th>\n",
       "      <th>date_added</th>\n",
       "      <th>release_year</th>\n",
       "      <th>rating</th>\n",
       "      <th>duration</th>\n",
       "      <th>listed_in</th>\n",
       "      <th>description</th>\n",
       "    </tr>\n",
       "  </thead>\n",
       "  <tbody>\n",
       "    <tr>\n",
       "      <th>0</th>\n",
       "      <td>s1</td>\n",
       "      <td>Movie</td>\n",
       "      <td>Dick Johnson Is Dead</td>\n",
       "      <td>Kirsten Johnson</td>\n",
       "      <td>NaN</td>\n",
       "      <td>United States</td>\n",
       "      <td>September 25, 2021</td>\n",
       "      <td>2020</td>\n",
       "      <td>PG-13</td>\n",
       "      <td>90 min</td>\n",
       "      <td>Documentaries</td>\n",
       "      <td>As her father nears the end of his life, filmm...</td>\n",
       "    </tr>\n",
       "    <tr>\n",
       "      <th>1</th>\n",
       "      <td>s2</td>\n",
       "      <td>TV Show</td>\n",
       "      <td>Blood &amp; Water</td>\n",
       "      <td>NaN</td>\n",
       "      <td>Ama Qamata, Khosi Ngema, Gail Mabalane, Thaban...</td>\n",
       "      <td>South Africa</td>\n",
       "      <td>September 24, 2021</td>\n",
       "      <td>2021</td>\n",
       "      <td>TV-MA</td>\n",
       "      <td>2 Seasons</td>\n",
       "      <td>International TV Shows, TV Dramas, TV Mysteries</td>\n",
       "      <td>After crossing paths at a party, a Cape Town t...</td>\n",
       "    </tr>\n",
       "    <tr>\n",
       "      <th>2</th>\n",
       "      <td>s3</td>\n",
       "      <td>TV Show</td>\n",
       "      <td>Ganglands</td>\n",
       "      <td>Julien Leclercq</td>\n",
       "      <td>Sami Bouajila, Tracy Gotoas, Samuel Jouy, Nabi...</td>\n",
       "      <td>NaN</td>\n",
       "      <td>September 24, 2021</td>\n",
       "      <td>2021</td>\n",
       "      <td>TV-MA</td>\n",
       "      <td>1 Season</td>\n",
       "      <td>Crime TV Shows, International TV Shows, TV Act...</td>\n",
       "      <td>To protect his family from a powerful drug lor...</td>\n",
       "    </tr>\n",
       "    <tr>\n",
       "      <th>3</th>\n",
       "      <td>s4</td>\n",
       "      <td>TV Show</td>\n",
       "      <td>Jailbirds New Orleans</td>\n",
       "      <td>NaN</td>\n",
       "      <td>NaN</td>\n",
       "      <td>NaN</td>\n",
       "      <td>September 24, 2021</td>\n",
       "      <td>2021</td>\n",
       "      <td>TV-MA</td>\n",
       "      <td>1 Season</td>\n",
       "      <td>Docuseries, Reality TV</td>\n",
       "      <td>Feuds, flirtations and toilet talk go down amo...</td>\n",
       "    </tr>\n",
       "    <tr>\n",
       "      <th>4</th>\n",
       "      <td>s5</td>\n",
       "      <td>TV Show</td>\n",
       "      <td>Kota Factory</td>\n",
       "      <td>NaN</td>\n",
       "      <td>Mayur More, Jitendra Kumar, Ranjan Raj, Alam K...</td>\n",
       "      <td>India</td>\n",
       "      <td>September 24, 2021</td>\n",
       "      <td>2021</td>\n",
       "      <td>TV-MA</td>\n",
       "      <td>2 Seasons</td>\n",
       "      <td>International TV Shows, Romantic TV Shows, TV ...</td>\n",
       "      <td>In a city of coaching centers known to train I...</td>\n",
       "    </tr>\n",
       "  </tbody>\n",
       "</table>\n",
       "</div>"
      ],
      "text/plain": [
       "  show_id     type                  title         director  \\\n",
       "0      s1    Movie   Dick Johnson Is Dead  Kirsten Johnson   \n",
       "1      s2  TV Show          Blood & Water              NaN   \n",
       "2      s3  TV Show              Ganglands  Julien Leclercq   \n",
       "3      s4  TV Show  Jailbirds New Orleans              NaN   \n",
       "4      s5  TV Show           Kota Factory              NaN   \n",
       "\n",
       "                                                cast        country  \\\n",
       "0                                                NaN  United States   \n",
       "1  Ama Qamata, Khosi Ngema, Gail Mabalane, Thaban...   South Africa   \n",
       "2  Sami Bouajila, Tracy Gotoas, Samuel Jouy, Nabi...            NaN   \n",
       "3                                                NaN            NaN   \n",
       "4  Mayur More, Jitendra Kumar, Ranjan Raj, Alam K...          India   \n",
       "\n",
       "           date_added  release_year rating   duration  \\\n",
       "0  September 25, 2021          2020  PG-13     90 min   \n",
       "1  September 24, 2021          2021  TV-MA  2 Seasons   \n",
       "2  September 24, 2021          2021  TV-MA   1 Season   \n",
       "3  September 24, 2021          2021  TV-MA   1 Season   \n",
       "4  September 24, 2021          2021  TV-MA  2 Seasons   \n",
       "\n",
       "                                           listed_in  \\\n",
       "0                                      Documentaries   \n",
       "1    International TV Shows, TV Dramas, TV Mysteries   \n",
       "2  Crime TV Shows, International TV Shows, TV Act...   \n",
       "3                             Docuseries, Reality TV   \n",
       "4  International TV Shows, Romantic TV Shows, TV ...   \n",
       "\n",
       "                                         description  \n",
       "0  As her father nears the end of his life, filmm...  \n",
       "1  After crossing paths at a party, a Cape Town t...  \n",
       "2  To protect his family from a powerful drug lor...  \n",
       "3  Feuds, flirtations and toilet talk go down amo...  \n",
       "4  In a city of coaching centers known to train I...  "
      ]
     },
     "execution_count": 38,
     "metadata": {},
     "output_type": "execute_result"
    }
   ],
   "source": [
    "df = pd.read_csv(\"netflix_titles.csv\")\n",
    "df.head()"
   ]
  },
  {
   "cell_type": "code",
   "execution_count": 6,
   "id": "f6b927c7",
   "metadata": {
    "id": "f6b927c7"
   },
   "outputs": [
    {
     "name": "stdout",
     "output_type": "stream",
     "text": [
      "There are 8807 rows and 12 columns in this dataset. \n",
      "\n"
     ]
    }
   ],
   "source": [
    "# how many rows and columns in this dataset?\n",
    "print(\"There are {} rows and {} columns in this dataset. \\n\".format(df.shape[0],df.shape[1]))                                         "
   ]
  },
  {
   "cell_type": "code",
   "execution_count": 7,
   "id": "32e13b0f",
   "metadata": {
    "id": "32e13b0f"
   },
   "outputs": [
    {
     "data": {
      "text/plain": [
       "0"
      ]
     },
     "execution_count": 7,
     "metadata": {},
     "output_type": "execute_result"
    }
   ],
   "source": [
    "df.duplicated().sum()"
   ]
  },
  {
   "cell_type": "code",
   "execution_count": 8,
   "id": "d7afe56c",
   "metadata": {
    "id": "d7afe56c"
   },
   "outputs": [
    {
     "data": {
      "text/plain": [
       "show_id            0\n",
       "type               0\n",
       "title              0\n",
       "director        2634\n",
       "cast             825\n",
       "country          831\n",
       "date_added        10\n",
       "release_year       0\n",
       "rating             4\n",
       "duration           3\n",
       "listed_in          0\n",
       "description        0\n",
       "dtype: int64"
      ]
     },
     "execution_count": 8,
     "metadata": {},
     "output_type": "execute_result"
    }
   ],
   "source": [
    "df.isnull().sum()"
   ]
  },
  {
   "cell_type": "code",
   "execution_count": 9,
   "id": "57b186f2",
   "metadata": {
    "id": "57b186f2"
   },
   "outputs": [
    {
     "data": {
      "text/plain": [
       "show_id         object\n",
       "type            object\n",
       "title           object\n",
       "director        object\n",
       "cast            object\n",
       "country         object\n",
       "date_added      object\n",
       "release_year     int64\n",
       "rating          object\n",
       "duration        object\n",
       "listed_in       object\n",
       "description     object\n",
       "dtype: object"
      ]
     },
     "execution_count": 9,
     "metadata": {},
     "output_type": "execute_result"
    }
   ],
   "source": [
    "df.dtypes"
   ]
  },
  {
   "cell_type": "code",
   "execution_count": 10,
   "id": "294d48bb",
   "metadata": {
    "id": "294d48bb"
   },
   "outputs": [
    {
     "name": "stdout",
     "output_type": "stream",
     "text": [
      "\n",
      " ************ show_id ************\n",
      "\n",
      "\n",
      " show_id\n",
      "s1       1\n",
      "s5875    1\n",
      "s5869    1\n",
      "s5870    1\n",
      "s5871    1\n",
      "        ..\n",
      "s2931    1\n",
      "s2930    1\n",
      "s2929    1\n",
      "s2928    1\n",
      "s8807    1\n",
      "Name: count, Length: 8807, dtype: int64\n",
      "\n",
      " count     8807\n",
      "unique    8807\n",
      "top         s1\n",
      "freq         1\n",
      "Name: show_id, dtype: object \n",
      "\n",
      "\n",
      " ************ type ************\n",
      "\n",
      "\n",
      " type\n",
      "Movie      6131\n",
      "TV Show    2676\n",
      "Name: count, dtype: int64\n",
      "\n",
      " count      8807\n",
      "unique        2\n",
      "top       Movie\n",
      "freq       6131\n",
      "Name: type, dtype: object \n",
      "\n",
      "\n",
      " ************ title ************\n",
      "\n",
      "\n",
      " title\n",
      "Dick Johnson Is Dead                     1\n",
      "Ip Man 2                                 1\n",
      "Hannibal Buress: Comedy Camisado         1\n",
      "Turbo FAST                               1\n",
      "Masha's Tales                            1\n",
      "                                        ..\n",
      "Love for Sale 2                          1\n",
      "ROAD TO ROMA                             1\n",
      "Good Time                                1\n",
      "Captain Underpants Epic Choice-o-Rama    1\n",
      "Zubaan                                   1\n",
      "Name: count, Length: 8807, dtype: int64\n",
      "\n",
      " count                     8807\n",
      "unique                    8807\n",
      "top       Dick Johnson Is Dead\n",
      "freq                         1\n",
      "Name: title, dtype: object \n",
      "\n",
      "\n",
      " ************ director ************\n",
      "\n",
      "\n",
      " director\n",
      "Rajiv Chilaka                     19\n",
      "Raúl Campos, Jan Suter            18\n",
      "Marcus Raboy                      16\n",
      "Suhas Kadav                       16\n",
      "Jay Karas                         14\n",
      "                                  ..\n",
      "Raymie Muzquiz, Stu Livingston     1\n",
      "Joe Menendez                       1\n",
      "Eric Bross                         1\n",
      "Will Eisenberg                     1\n",
      "Mozez Singh                        1\n",
      "Name: count, Length: 4528, dtype: int64\n",
      "\n",
      " count              6173\n",
      "unique             4528\n",
      "top       Rajiv Chilaka\n",
      "freq                 19\n",
      "Name: director, dtype: object \n",
      "\n",
      "\n",
      " ************ cast ************\n",
      "\n",
      "\n",
      " cast\n",
      "David Attenborough                                                                                                                                                                            19\n",
      "Vatsal Dubey, Julie Tejwani, Rupa Bhimani, Jigna Bhardwaj, Rajesh Kava, Mousam, Swapnil                                                                                                       14\n",
      "Samuel West                                                                                                                                                                                   10\n",
      "Jeff Dunham                                                                                                                                                                                    7\n",
      "David Spade, London Hughes, Fortune Feimster                                                                                                                                                   6\n",
      "                                                                                                                                                                                              ..\n",
      "Michael Peña, Diego Luna, Tenoch Huerta, Joaquin Cosio, José María Yazpik, Matt Letscher, Alyssa Diaz                                                                                          1\n",
      "Nick Lachey, Vanessa Lachey                                                                                                                                                                    1\n",
      "Takeru Sato, Kasumi Arimura, Haru, Kentaro Sakaguchi, Takayuki Yamada, Kendo Kobayashi, Ken Yasuda, Arata Furuta, Suzuki Matsuo, Koichi Yamadera, Arata Iura, Chikako Kaku, Kotaro Yoshida     1\n",
      "Toyin Abraham, Sambasa Nzeribe, Chioma Chukwuka Akpotha, Chioma Omeruah, Chiwetalu Agu, Dele Odule, Femi Adebayo, Bayray McNwizu, Biodun Stephen                                               1\n",
      "Vicky Kaushal, Sarah-Jane Dias, Raaghav Chanana, Manish Chaudhary, Meghna Malik, Malkeet Rauni, Anita Shabdish, Chittaranjan Tripathy                                                          1\n",
      "Name: count, Length: 7692, dtype: int64\n",
      "\n",
      " count                   7982\n",
      "unique                  7692\n",
      "top       David Attenborough\n",
      "freq                      19\n",
      "Name: cast, dtype: object \n",
      "\n",
      "\n",
      " ************ country ************\n",
      "\n",
      "\n",
      " country\n",
      "United States                             2818\n",
      "India                                      972\n",
      "United Kingdom                             419\n",
      "Japan                                      245\n",
      "South Korea                                199\n",
      "                                          ... \n",
      "Romania, Bulgaria, Hungary                   1\n",
      "Uruguay, Guatemala                           1\n",
      "France, Senegal, Belgium                     1\n",
      "Mexico, United States, Spain, Colombia       1\n",
      "United Arab Emirates, Jordan                 1\n",
      "Name: count, Length: 748, dtype: int64\n",
      "\n",
      " count              7976\n",
      "unique              748\n",
      "top       United States\n",
      "freq               2818\n",
      "Name: country, dtype: object \n",
      "\n",
      "\n",
      " ************ date_added ************\n",
      "\n",
      "\n",
      " date_added\n",
      "January 1, 2020      109\n",
      "November 1, 2019      89\n",
      "March 1, 2018         75\n",
      "December 31, 2019     74\n",
      "October 1, 2018       71\n",
      "                    ... \n",
      "December 4, 2016       1\n",
      "November 21, 2016      1\n",
      "November 19, 2016      1\n",
      "November 17, 2016      1\n",
      "January 11, 2020       1\n",
      "Name: count, Length: 1767, dtype: int64\n",
      "\n",
      " count                8797\n",
      "unique               1767\n",
      "top       January 1, 2020\n",
      "freq                  109\n",
      "Name: date_added, dtype: object \n",
      "\n",
      "\n",
      " ************ release_year ************\n",
      "\n",
      "\n",
      " release_year\n",
      "2018    1147\n",
      "2017    1032\n",
      "2019    1030\n",
      "2020     953\n",
      "2016     902\n",
      "        ... \n",
      "1959       1\n",
      "1925       1\n",
      "1961       1\n",
      "1947       1\n",
      "1966       1\n",
      "Name: count, Length: 74, dtype: int64\n",
      "\n",
      " count    8807.000000\n",
      "mean     2014.180198\n",
      "std         8.819312\n",
      "min      1925.000000\n",
      "25%      2013.000000\n",
      "50%      2017.000000\n",
      "75%      2019.000000\n",
      "max      2021.000000\n",
      "Name: release_year, dtype: float64 \n",
      "\n",
      "\n",
      " ************ rating ************\n",
      "\n",
      "\n",
      " rating\n",
      "TV-MA       3207\n",
      "TV-14       2160\n",
      "TV-PG        863\n",
      "R            799\n",
      "PG-13        490\n",
      "TV-Y7        334\n",
      "TV-Y         307\n",
      "PG           287\n",
      "TV-G         220\n",
      "NR            80\n",
      "G             41\n",
      "TV-Y7-FV       6\n",
      "NC-17          3\n",
      "UR             3\n",
      "74 min         1\n",
      "84 min         1\n",
      "66 min         1\n",
      "Name: count, dtype: int64\n",
      "\n",
      " count      8803\n",
      "unique       17\n",
      "top       TV-MA\n",
      "freq       3207\n",
      "Name: rating, dtype: object \n",
      "\n",
      "\n",
      " ************ duration ************\n",
      "\n",
      "\n",
      " duration\n",
      "1 Season     1793\n",
      "2 Seasons     425\n",
      "3 Seasons     199\n",
      "90 min        152\n",
      "94 min        146\n",
      "             ... \n",
      "16 min          1\n",
      "186 min         1\n",
      "193 min         1\n",
      "189 min         1\n",
      "191 min         1\n",
      "Name: count, Length: 220, dtype: int64\n",
      "\n",
      " count         8804\n",
      "unique         220\n",
      "top       1 Season\n",
      "freq          1793\n",
      "Name: duration, dtype: object \n",
      "\n",
      "\n",
      " ************ listed_in ************\n",
      "\n",
      "\n",
      " listed_in\n",
      "Dramas, International Movies                          362\n",
      "Documentaries                                         359\n",
      "Stand-Up Comedy                                       334\n",
      "Comedies, Dramas, International Movies                274\n",
      "Dramas, Independent Movies, International Movies      252\n",
      "                                                     ... \n",
      "Kids' TV, TV Action & Adventure, TV Dramas              1\n",
      "TV Comedies, TV Dramas, TV Horror                       1\n",
      "Children & Family Movies, Comedies, LGBTQ Movies        1\n",
      "Kids' TV, Spanish-Language TV Shows, Teen TV Shows      1\n",
      "Cult Movies, Dramas, Thrillers                          1\n",
      "Name: count, Length: 514, dtype: int64\n",
      "\n",
      " count                             8807\n",
      "unique                             514\n",
      "top       Dramas, International Movies\n",
      "freq                               362\n",
      "Name: listed_in, dtype: object \n",
      "\n",
      "\n",
      " ************ description ************\n",
      "\n",
      "\n",
      " description\n",
      "Paranormal activity at a lush, abandoned property alarms a group eager to redevelop the site, but the eerie events may not be as unearthly as they think.    4\n",
      "Challenged to compose 100 songs before he can marry the girl he loves, a tortured but passionate singer-songwriter embarks on a poignant musical journey.    3\n",
      "A surly septuagenarian gets another chance at her 20s after having her photo snapped at a studio that magically takes 50 years off her life.                 3\n",
      "Multiple women report their husbands as missing but when it appears they are looking for the same man, a police officer traces their cryptic connection.     3\n",
      "Secrets bubble to the surface after a sensual encounter and an unforeseen crime entangle two friends and a woman caught between them.                        2\n",
      "                                                                                                                                                            ..\n",
      "Sent away to evade an arranged marriage, a 14-year-old begins a harrowing journey of sex work and poverty in the slums of Accra.                             1\n",
      "When his partner in crime goes missing, a small-time crook’s life is transformed as he dedicates himself to raising the daughter his friend left behind.     1\n",
      "During 1962’s Cuban missile crisis, a troubled math genius finds himself drafted to play in a U.S.-Soviet chess match – and a deadly game of espionage.      1\n",
      "A teen's discovery of a vintage Polaroid camera develops into a darker tale when she finds that whoever takes their photo with it dies soon afterward.       1\n",
      "A scrappy but poor boy worms his way into a tycoon's dysfunctional family, while facing his fear of music and the truth about his past.                      1\n",
      "Name: count, Length: 8775, dtype: int64\n",
      "\n",
      " count                                                  8807\n",
      "unique                                                 8775\n",
      "top       Paranormal activity at a lush, abandoned prope...\n",
      "freq                                                      4\n",
      "Name: description, dtype: object \n",
      "\n"
     ]
    }
   ],
   "source": [
    "for i in list(df.columns):\n",
    "    \n",
    "    print(\"\\n ************ \"+i+\" ************\\n\")\n",
    "    print(\"\\n\",df[i].value_counts())\n",
    "    print(\"\\n\",df[i].describe(),\"\\n\")"
   ]
  },
  {
   "cell_type": "code",
   "execution_count": 11,
   "id": "a5f42041",
   "metadata": {
    "id": "a5f42041"
   },
   "outputs": [
    {
     "name": "stdout",
     "output_type": "stream",
     "text": [
      "<class 'pandas.core.frame.DataFrame'>\n",
      "RangeIndex: 8807 entries, 0 to 8806\n",
      "Data columns (total 12 columns):\n",
      " #   Column        Non-Null Count  Dtype \n",
      "---  ------        --------------  ----- \n",
      " 0   show_id       8807 non-null   object\n",
      " 1   type          8807 non-null   object\n",
      " 2   title         8807 non-null   object\n",
      " 3   director      6173 non-null   object\n",
      " 4   cast          7982 non-null   object\n",
      " 5   country       7976 non-null   object\n",
      " 6   date_added    8797 non-null   object\n",
      " 7   release_year  8807 non-null   int64 \n",
      " 8   rating        8803 non-null   object\n",
      " 9   duration      8804 non-null   object\n",
      " 10  listed_in     8807 non-null   object\n",
      " 11  description   8807 non-null   object\n",
      "dtypes: int64(1), object(11)\n",
      "memory usage: 825.8+ KB\n"
     ]
    }
   ],
   "source": [
    "# try seeing some information about the data and check if there is nulls\n",
    "df.info()"
   ]
  },
  {
   "cell_type": "markdown",
   "id": "c97fadd2",
   "metadata": {
    "id": "c97fadd2"
   },
   "source": [
    "Some Questions you should ask yourself about.\n",
    "<br>\n",
    "1- Is there any duplicates? .\n",
    "<br>\n",
    "2-What about the nulls?.\n",
    "<br>\n",
    "3-Does all columns has the a correct format in its values? if its not how should you make it better?\n",
    "<br>\n",
    "4-Datatypes?\n",
    "<br>\n",
    "5- Before starting , after seeing some info about the dataset and from the first look on the dataset , what columns you think will not be necessary in our dataset? (io: what columns you think dropping it will be better?)\n",
    "<br>\n",
    "feel free to wirte only their names in the next cell"
   ]
  },
  {
   "cell_type": "markdown",
   "id": "770326af",
   "metadata": {
    "id": "770326af"
   },
   "source": [
    "Double Click here to start writing\n",
    "1.no\n",
    "2.there are nulls in(duration ,rating ,date_added ,country,cast,director)\n",
    "3.no ,all columns don't have the a correct format, we should correct the datatypes\n",
    "4.show_id,title,director,cast,description"
   ]
  },
  {
   "cell_type": "code",
   "execution_count": null,
   "id": "a45657e2",
   "metadata": {
    "id": "a45657e2"
   },
   "outputs": [],
   "source": [
    "#"
   ]
  },
  {
   "cell_type": "code",
   "execution_count": null,
   "id": "3cd44f5e",
   "metadata": {
    "id": "3cd44f5e"
   },
   "outputs": [],
   "source": [
    "# show the number of duplicates here\n",
    "\n"
   ]
  },
  {
   "cell_type": "code",
   "execution_count": null,
   "id": "246fcada",
   "metadata": {
    "id": "246fcada"
   },
   "outputs": [],
   "source": [
    "# show number of nulls\n",
    "\n"
   ]
  },
  {
   "cell_type": "markdown",
   "id": "fcb24a5e",
   "metadata": {
    "id": "fcb24a5e"
   },
   "source": []
  },
  {
   "cell_type": "code",
   "execution_count": 22,
   "id": "708d0c60",
   "metadata": {
    "id": "708d0c60"
   },
   "outputs": [
    {
     "data": {
      "text/plain": [
       "0"
      ]
     },
     "execution_count": 22,
     "metadata": {},
     "output_type": "execute_result"
    }
   ],
   "source": [
    "# the cast column is full with nulls , replace the nulls with \"UnKnown\"\n",
    "# make a new column that describes the number of people in the cast (io :Hom many people in the cast? if it is unknown make it 0)\n",
    "# hint --> make an external function and use apply method\n",
    "\n",
    "df['cast'].fillna(\"UnKnown\", inplace=True)\n",
    "df['cast'].isnull().sum()"
   ]
  },
  {
   "cell_type": "code",
   "execution_count": 26,
   "id": "fcfabbc8",
   "metadata": {},
   "outputs": [
    {
     "data": {
      "text/plain": [
       "0        0\n",
       "1       19\n",
       "2        9\n",
       "3        0\n",
       "4        8\n",
       "        ..\n",
       "8802    10\n",
       "8803     0\n",
       "8804     7\n",
       "8805     9\n",
       "8806     8\n",
       "Name: num_cast, Length: 8807, dtype: int64"
      ]
     },
     "execution_count": 26,
     "metadata": {},
     "output_type": "execute_result"
    }
   ],
   "source": [
    "df['num_cast'] = df['cast'].apply(lambda x: len(x.split(',')) if x != 'UnKnown' else 0)\n",
    "df['num_cast']"
   ]
  },
  {
   "cell_type": "markdown",
   "id": "ee88230a",
   "metadata": {
    "id": "ee88230a"
   },
   "source": [
    "now time to get rid of these nulls"
   ]
  },
  {
   "cell_type": "code",
   "execution_count": 31,
   "id": "fa51f26d",
   "metadata": {
    "id": "fa51f26d"
   },
   "outputs": [],
   "source": [
    "# let's start with date_added , see the number of nulls in it , replace these nulls with the mode of this column , and in the end\n",
    "# convert this column to be in suitable format date time ,(hint --> use fillna method)\n",
    "df['date_added'].isnull().sum()\n",
    "df['date_added'].fillna(df['date_added'].mode()[0], inplace=True)\n",
    "# df['date_added'] = pd.to_datetime(df['date_added'])\n",
    "df['date_added'] = pd.to_datetime(df['date_added'], errors='coerce')"
   ]
  },
  {
   "cell_type": "code",
   "execution_count": 33,
   "id": "ab5d58c0",
   "metadata": {
    "id": "ab5d58c0"
   },
   "outputs": [],
   "source": [
    "# now time for country\n",
    "# when you look closer at the dataset you will find that most of null values in country has the value \"Anime\" in listed_in column\n",
    "# make a function that checks if Anime is in listed_in column\n",
    "# and if it is then replace the null in country column of this row with \"Japan\"\n",
    "# if it is not then replace the null with the most frequented value (io : mode)\n",
    "# i will give you a first structue\n",
    "\n",
    "\n",
    "def replace_country(row):\n",
    "    # Check if \"Anime\" is in the 'listed_in' column\n",
    "    if \"Anime\" in row['listed_in']:\n",
    "        return \"Japan\"  # Replace with \"Japan\" if it's an Anime\n",
    "    else:\n",
    "        return mode_country \n",
    "    \n",
    "mode_country = df['country'].mode()[0]\n",
    "\n",
    "# Apply the replace_country function to each row in the DataFrame\n",
    "df['country'].fillna(df.apply(replace_country, axis=1), inplace=True)"
   ]
  },
  {
   "cell_type": "code",
   "execution_count": 34,
   "id": "1b4d39eb",
   "metadata": {
    "id": "1b4d39eb"
   },
   "outputs": [
    {
     "ename": "IndentationError",
     "evalue": "expected an indented block after 'if' statement on line 2 (742147774.py, line 4)",
     "output_type": "error",
     "traceback": [
      "\u001b[1;36m  Cell \u001b[1;32mIn[34], line 4\u001b[1;36m\u001b[0m\n\u001b[1;33m    return x\u001b[0m\n\u001b[1;37m    ^\u001b[0m\n\u001b[1;31mIndentationError\u001b[0m\u001b[1;31m:\u001b[0m expected an indented block after 'if' statement on line 2\n"
     ]
    }
   ],
   "source": [
    "def country_null(x):\n",
    "    if pd.isnull(x[\"country\"]):\n",
    "\n",
    "    return x\n",
    "\n",
    "df = df.apply(country_null,axis=1)# keep the axis like this to work"
   ]
  },
  {
   "cell_type": "code",
   "execution_count": 36,
   "id": "625c65b9",
   "metadata": {
    "id": "625c65b9"
   },
   "outputs": [],
   "source": [
    "# director column , duration and rating , fill with mode\n",
    "df['director'].fillna(df['director'].mode()[0], inplace=True)\n",
    "df['duration'].fillna(df['duration'].mode()[0], inplace=True)\n",
    "df['rating'].fillna(df['rating'].mode()[0], inplace=True)"
   ]
  },
  {
   "cell_type": "markdown",
   "id": "bc34e429",
   "metadata": {
    "id": "bc34e429"
   },
   "source": [
    "<p>let's now google the categories and explore them</p>\n",
    "<ul>\n",
    "    <li>TV-MA:This program is specifically designed to be viewed by adults and therefore may be unsuitable for children under 17.</li>\n",
    "    <li>TV-14:This program contains some material that many parents would find unsuitable for children under 14 years of age.</li>\n",
    "    <li>TV-PG:This program contains material that parents may find unsuitable for younger children.</li>\n",
    "    <li>R:Under 17 requires accompanying parent or adult guardian,Parents are urged to learn more about the film before taking their young children with them.</li>\n",
    "    <li>PG-13:Some material may be inappropriate for children under 13. Parents are urged to be cautious. Some material may be inappropriate for pre-teenagers.</li>\n",
    "    <li>NR or UR:If a film has not been submitted for a rating or is an uncut version of a film that was submitted</li>\n",
    "    <li>PG:Some material may not be suitable for children,May contain some material parents might not like for their young children.</li>\n",
    "    <li>TV-Y7:This program is designed for children age 7 and above.</li>\n",
    "    <li>TV-G:This program is suitable for all ages.</li>\n",
    "    <li>TV-Y:Programs rated TV-Y are designed to be appropriate for children of all ages. The thematic elements portrayed in programs with this rating are specifically designed for a very young audience, including children ages 2-6.</li>\n",
    "    <li>TV-Y7-FV:is recommended for ages 7 and older, with the unique advisory that the program contains fantasy violence.</li>\n",
    "    <li>G:All ages admitted. Nothing that would offend parents for viewing by children.</li>\n",
    "    <li>NC-17:No One 17 and Under Admitted. Clearly adult. Children are not admitted.</li>\n",
    "</ul>\n",
    "\n",
    "<p> here we discover that UR and NR is the same rating(unrated,Not rated)<br>Uncut/extended versions of films that are labeled \"Unrated\" also contain warnings saying that the uncut version of the film contains content that differs from the theatrical release and might not be suitable for minors.<br> so we have the fix this. </p>"
   ]
  },
  {
   "cell_type": "code",
   "execution_count": 39,
   "id": "42666358",
   "metadata": {
    "id": "42666358"
   },
   "outputs": [
    {
     "data": {
      "text/plain": [
       "0       PG-13\n",
       "1       TV-MA\n",
       "2       TV-MA\n",
       "3       TV-MA\n",
       "4       TV-MA\n",
       "        ...  \n",
       "8802        R\n",
       "8803    TV-Y7\n",
       "8804        R\n",
       "8805       PG\n",
       "8806    TV-14\n",
       "Name: rating, Length: 8807, dtype: object"
      ]
     },
     "execution_count": 39,
     "metadata": {},
     "output_type": "execute_result"
    }
   ],
   "source": [
    "# in the rating column , UR and NR is the same where Unrated and Notrated , so fix this\n",
    "df['rating'].replace({\"UR\": \"Unrated\", \"NR\": \"Notrated\"}, inplace=True)\n",
    "df['rating']"
   ]
  },
  {
   "cell_type": "code",
   "execution_count": 40,
   "id": "e397285d",
   "metadata": {
    "id": "e397285d"
   },
   "outputs": [],
   "source": [
    "# in the end of this notebook some columns is strange ,\n",
    "# what do you think we should do with something like show_id column\n",
    "# feel free to do the same for the columns you thought it is not necessary and please write an explanation why do you think it is not important\n",
    "columns_to_drop = ['show_id', 'title', 'director', 'cast', 'description'] \n",
    "df.drop(columns=columns_to_drop, inplace=True)"
   ]
  },
  {
   "cell_type": "code",
   "execution_count": null,
   "id": "acc2c8ad",
   "metadata": {
    "id": "acc2c8ad"
   },
   "outputs": [],
   "source": []
  }
 ],
 "metadata": {
  "colab": {
   "provenance": []
  },
  "kernelspec": {
   "display_name": "Python 3 (ipykernel)",
   "language": "python",
   "name": "python3"
  },
  "language_info": {
   "codemirror_mode": {
    "name": "ipython",
    "version": 3
   },
   "file_extension": ".py",
   "mimetype": "text/x-python",
   "name": "python",
   "nbconvert_exporter": "python",
   "pygments_lexer": "ipython3",
   "version": "3.11.5"
  }
 },
 "nbformat": 4,
 "nbformat_minor": 5
}
